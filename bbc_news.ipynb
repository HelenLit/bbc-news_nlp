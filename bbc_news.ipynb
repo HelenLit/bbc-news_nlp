{
  "nbformat": 4,
  "nbformat_minor": 0,
  "metadata": {
    "colab": {
      "provenance": [],
      "authorship_tag": "ABX9TyOuRBTYqcRGlqNVGIrf8zWb",
      "include_colab_link": true
    },
    "kernelspec": {
      "name": "python3",
      "display_name": "Python 3"
    },
    "language_info": {
      "name": "python"
    }
  },
  "cells": [
    {
      "cell_type": "markdown",
      "metadata": {
        "id": "view-in-github",
        "colab_type": "text"
      },
      "source": [
        "<a href=\"https://colab.research.google.com/github/HelenLit/bbc-news_nlp/blob/main/bbc_news.ipynb\" target=\"_parent\"><img src=\"https://colab.research.google.com/assets/colab-badge.svg\" alt=\"Open In Colab\"/></a>"
      ]
    },
    {
      "cell_type": "markdown",
      "source": [
        "##Exploring the BBC News archive\n",
        "\n",
        "In this project I am working with a variation of the [BBC News Classification Dataset](https://www.kaggle.com/c/learn-ai-bbc/overview), which contains 2225 examples of news articles with their respective categories (labels)."
      ],
      "metadata": {
        "id": "sCrFJrpdt84V"
      }
    },
    {
      "cell_type": "code",
      "execution_count": 13,
      "metadata": {
        "colab": {
          "base_uri": "https://localhost:8080/"
        },
        "id": "H1jF1AM4fCEz",
        "outputId": "c46d46bd-a8df-4efd-b596-beea66b77d59"
      },
      "outputs": [
        {
          "output_type": "stream",
          "name": "stdout",
          "text": [
            "--2023-08-31 18:15:24--  https://raw.githubusercontent.com/HelenLit/bbc-news_nlp/main/bbc-text.csv\n",
            "Resolving raw.githubusercontent.com (raw.githubusercontent.com)... 185.199.108.133, 185.199.109.133, 185.199.110.133, ...\n",
            "Connecting to raw.githubusercontent.com (raw.githubusercontent.com)|185.199.108.133|:443... connected.\n",
            "HTTP request sent, awaiting response... 200 OK\n",
            "Length: 5057493 (4.8M) [text/plain]\n",
            "Saving to: ‘bbc-text.csv.2’\n",
            "\n",
            "bbc-text.csv.2      100%[===================>]   4.82M  --.-KB/s    in 0.08s   \n",
            "\n",
            "2023-08-31 18:15:24 (57.5 MB/s) - ‘bbc-text.csv.2’ saved [5057493/5057493]\n",
            "\n",
            "--2023-08-31 18:15:24--  https://raw.githubusercontent.com/HelenLit/bbc-news_nlp/main/bbc-text-minimal.csv\n",
            "Resolving raw.githubusercontent.com (raw.githubusercontent.com)... 185.199.108.133, 185.199.109.133, 185.199.110.133, ...\n",
            "Connecting to raw.githubusercontent.com (raw.githubusercontent.com)|185.199.108.133|:443... connected.\n",
            "HTTP request sent, awaiting response... 200 OK\n",
            "Length: 11337 (11K) [text/plain]\n",
            "Saving to: ‘bbc-text-minimal.csv’\n",
            "\n",
            "bbc-text-minimal.cs 100%[===================>]  11.07K  --.-KB/s    in 0s      \n",
            "\n",
            "2023-08-31 18:15:24 (39.2 MB/s) - ‘bbc-text-minimal.csv’ saved [11337/11337]\n",
            "\n"
          ]
        }
      ],
      "source": [
        "!wget https://raw.githubusercontent.com/HelenLit/bbc-news_nlp/main/bbc-text.csv\n",
        "!wget https://raw.githubusercontent.com/HelenLit/bbc-news_nlp/main/bbc-text-minimal.csv"
      ]
    },
    {
      "cell_type": "code",
      "source": [
        "import csv\n",
        "from tensorflow.keras.preprocessing.text import Tokenizer\n",
        "from tensorflow.keras.preprocessing.sequence import pad_sequences"
      ],
      "metadata": {
        "id": "1bDJqHLzuZX-"
      },
      "execution_count": 6,
      "outputs": []
    },
    {
      "cell_type": "markdown",
      "source": [
        "Looking at the structure of the csv that contains the data:"
      ],
      "metadata": {
        "id": "iuFMO-qTudkv"
      }
    },
    {
      "cell_type": "code",
      "source": [
        "with open(\"./bbc-text.csv.1\", 'r') as csvfile:\n",
        "    print(f\"First line (header) looks like this:\\n\\n{csvfile.readline()}\")\n",
        "    print(f\"Each data point looks like this:\\n\\n{csvfile.readline()}\")"
      ],
      "metadata": {
        "colab": {
          "base_uri": "https://localhost:8080/"
        },
        "id": "brt_rFsCup_u",
        "outputId": "7424f58e-315a-4418-d686-747ba8a5ceb8"
      },
      "execution_count": 15,
      "outputs": [
        {
          "output_type": "stream",
          "name": "stdout",
          "text": [
            "First line (header) looks like this:\n",
            "\n",
            "category,text\n",
            "\n",
            "Each data point looks like this:\n",
            "\n",
            "tech,tv future in the hands of viewers with home theatre systems  plasma high-definition tvs  and digital video recorders moving into the living room  the way people watch tv will be radically different in five years  time.  that is according to an expert panel which gathered at the annual consumer electronics show in las vegas to discuss how these new technologies will impact one of our favourite pastimes. with the us leading the trend  programmes and other content will be delivered to viewers via home networks  through cable  satellite  telecoms companies  and broadband service providers to front rooms and portable devices.  one of the most talked-about technologies of ces has been digital and personal video recorders (dvr and pvr). these set-top boxes  like the us s tivo and the uk s sky+ system  allow people to record  store  play  pause and forward wind tv programmes when they want.  essentially  the technology allows for much more personalised tv. they are also being built-in to high-definition tv sets  which are big business in japan and the us  but slower to take off in europe because of the lack of high-definition programming. not only can people forward wind through adverts  they can also forget about abiding by network and channel schedules  putting together their own a-la-carte entertainment. but some us networks and cable and satellite companies are worried about what it means for them in terms of advertising revenues as well as  brand identity  and viewer loyalty to channels. although the us leads in this technology at the moment  it is also a concern that is being raised in europe  particularly with the growing uptake of services like sky+.  what happens here today  we will see in nine months to a years  time in the uk   adam hume  the bbc broadcast s futurologist told the bbc news website. for the likes of the bbc  there are no issues of lost advertising revenue yet. it is a more pressing issue at the moment for commercial uk broadcasters  but brand loyalty is important for everyone.  we will be talking more about content brands rather than network brands   said tim hanlon  from brand communications firm starcom mediavest.  the reality is that with broadband connections  anybody can be the producer of content.  he added:  the challenge now is that it is hard to promote a programme with so much choice.   what this means  said stacey jolna  senior vice president of tv guide tv group  is that the way people find the content they want to watch has to be simplified for tv viewers. it means that networks  in us terms  or channels could take a leaf out of google s book and be the search engine of the future  instead of the scheduler to help people find what they want to watch. this kind of channel model might work for the younger ipod generation which is used to taking control of their gadgets and what they play on them. but it might not suit everyone  the panel recognised. older generations are more comfortable with familiar schedules and channel brands because they know what they are getting. they perhaps do not want so much of the choice put into their hands  mr hanlon suggested.  on the other end  you have the kids just out of diapers who are pushing buttons already - everything is possible and available to them   said mr hanlon.  ultimately  the consumer will tell the market they want.   of the 50 000 new gadgets and technologies being showcased at ces  many of them are about enhancing the tv-watching experience. high-definition tv sets are everywhere and many new models of lcd (liquid crystal display) tvs have been launched with dvr capability built into them  instead of being external boxes. one such example launched at the show is humax s 26-inch lcd tv with an 80-hour tivo dvr and dvd recorder. one of the us s biggest satellite tv companies  directtv  has even launched its own branded dvr at the show with 100-hours of recording capability  instant replay  and a search function. the set can pause and rewind tv for up to 90 hours. and microsoft chief bill gates announced in his pre-show keynote speech a partnership with tivo  called tivotogo  which means people can play recorded programmes on windows pcs and mobile devices. all these reflect the increasing trend of freeing up multimedia so that people can watch what they want  when they want.\n",
            "\n"
          ]
        }
      ]
    },
    {
      "cell_type": "markdown",
      "source": [
        "Each data point is composed of the category of the news article followed by a comma and then the actual text of the article."
      ],
      "metadata": {
        "id": "WYImKP6susrM"
      }
    },
    {
      "cell_type": "markdown",
      "source": [
        "## Removing Stopwords\n",
        "\n",
        "One important step when working with text data is to remove the **stopwords** from it. These are the most common words in the language and they rarely provide useful information for the classification process.\n",
        "\n",
        "`remove_stopwords` function receives a string and returns another string that excludes all of the stopwords provided."
      ],
      "metadata": {
        "id": "19nkk4mQynNx"
      }
    },
    {
      "cell_type": "code",
      "source": [
        "def remove_stopwords(sentence):\n",
        "    \"\"\"\n",
        "    Removes a list of stopwords\n",
        "\n",
        "    Args:\n",
        "        sentence (string): sentence to remove the stopwords from\n",
        "\n",
        "    Returns:\n",
        "        sentence (string): lowercase sentence without the stopwords\n",
        "    \"\"\"\n",
        "    # Set of stopwords for faster lookup\n",
        "    stopwords = set([\"a\", \"about\", \"above\", \"after\", \"again\", \"against\", \"all\", \"am\", \"an\", \"and\", \"any\", \"are\", \"as\", \"at\", \"be\", \"because\", \"been\", \"before\", \"being\", \"below\", \"between\", \"both\", \"but\", \"by\", \"could\", \"did\", \"do\", \"does\", \"doing\", \"down\", \"during\", \"each\", \"few\", \"for\", \"from\", \"further\", \"had\", \"has\", \"have\", \"having\", \"he\", \"he'd\", \"he'll\", \"he's\", \"her\", \"here\", \"here's\", \"hers\", \"herself\", \"him\", \"himself\", \"his\", \"how\", \"how's\", \"i\", \"i'd\", \"i'll\", \"i'm\", \"i've\", \"if\", \"in\", \"into\", \"is\", \"it\", \"it's\", \"its\", \"itself\", \"let's\", \"me\", \"more\", \"most\", \"my\", \"myself\", \"nor\", \"of\", \"on\", \"once\", \"only\", \"or\", \"other\", \"ought\", \"our\", \"ours\", \"ourselves\", \"out\", \"over\", \"own\", \"same\", \"she\", \"she'd\", \"she'll\", \"she's\", \"should\", \"so\", \"some\", \"such\", \"than\", \"that\", \"that's\", \"the\", \"their\", \"theirs\", \"them\", \"themselves\", \"then\", \"there\", \"there's\", \"these\", \"they\", \"they'd\", \"they'll\", \"they're\", \"they've\", \"this\", \"those\", \"through\", \"to\", \"too\", \"under\", \"until\", \"up\", \"very\", \"was\", \"we\", \"we'd\", \"we'll\", \"we're\", \"we've\", \"were\", \"what\", \"what's\", \"when\", \"when's\", \"where\", \"where's\", \"which\", \"while\", \"who\", \"who's\", \"whom\", \"why\", \"why's\", \"with\", \"would\", \"you\", \"you'd\", \"you'll\", \"you're\", \"you've\", \"your\", \"yours\", \"yourself\", \"yourselves\" ])\n",
        "\n",
        "    # Sentencing converted to lowercase-only\n",
        "    sentence = sentence.lower()\n",
        "    words = sentence.split()\n",
        "    # Removing stopwords using list comprehension\n",
        "    words_without_stopwords = [word for word in words if word not in stopwords]\n",
        "\n",
        "    # Joining the words back into a sentence\n",
        "    sentence = ' '.join(words_without_stopwords)\n",
        "    return sentence"
      ],
      "metadata": {
        "id": "apFuATycygP-"
      },
      "execution_count": 9,
      "outputs": []
    },
    {
      "cell_type": "markdown",
      "source": [
        "## Reading the raw data\n",
        "\n",
        "`parse_data_from_file` function reads the data from the csv file"
      ],
      "metadata": {
        "id": "szbzOAQJy7MQ"
      }
    },
    {
      "cell_type": "code",
      "source": [
        "def parse_data_from_file(filename):\n",
        "    \"\"\"\n",
        "    Extracts sentences and labels from a CSV file\n",
        "\n",
        "    Args:\n",
        "        filename (string): path to the CSV file\n",
        "\n",
        "    Returns:\n",
        "        sentences, labels (list of string, list of string): tuple containing lists of sentences and labels\n",
        "    \"\"\"\n",
        "    sentences = []\n",
        "    labels = []\n",
        "    with open(filename, 'r') as csvfile:\n",
        "        reader = csv.reader(csvfile, delimiter=',')\n",
        "        next(reader)\n",
        "        for row in reader:\n",
        "            labels.append(row[0])\n",
        "            sentence = remove_stopwords(row[1])\n",
        "            sentences.append(sentence)\n",
        "    return sentences, labels"
      ],
      "metadata": {
        "id": "U0BVrwL-zIEq"
      },
      "execution_count": 10,
      "outputs": []
    },
    {
      "cell_type": "code",
      "source": [
        "# Testing parse_data_from_file function\n",
        "\n",
        "# With original dataset\n",
        "sentences, labels = parse_data_from_file(\"./bbc-text.csv.1\")\n",
        "\n",
        "print(\"ORIGINAL DATASET:\\n\")\n",
        "print(f\"There are {len(sentences)} sentences in the dataset.\\n\")\n",
        "print(f\"First sentence has {len(sentences[0].split())} words (after removing stopwords).\\n\")\n",
        "print(f\"There are {len(labels)} labels in the dataset.\\n\")\n",
        "print(f\"The first 5 labels are {labels[:5]}\\n\\n\")\n",
        "\n",
        "# With a miniature version of the dataset that contains only first 5 rows\n",
        "mini_sentences, mini_labels = parse_data_from_file(\"./bbc-text-minimal.csv\")\n",
        "\n",
        "print(\"MINIATURE DATASET:\\n\")\n",
        "print(f\"There are {len(mini_sentences)} sentences in the miniature dataset.\\n\")\n",
        "print(f\"First sentence has {len(mini_sentences[0].split())} words (after removing stopwords).\\n\")\n",
        "print(f\"There are {len(mini_labels)} labels in the miniature dataset.\\n\")\n",
        "print(f\"The first 5 labels are {mini_labels[:5]}\")"
      ],
      "metadata": {
        "colab": {
          "base_uri": "https://localhost:8080/"
        },
        "id": "qLFRQfsXzQBu",
        "outputId": "9be3ea1d-6c59-4f8c-ce8e-64abc91540b9"
      },
      "execution_count": 16,
      "outputs": [
        {
          "output_type": "stream",
          "name": "stdout",
          "text": [
            "ORIGINAL DATASET:\n",
            "\n",
            "There are 2225 sentences in the dataset.\n",
            "\n",
            "First sentence has 436 words (after removing stopwords).\n",
            "\n",
            "There are 2225 labels in the dataset.\n",
            "\n",
            "The first 5 labels are ['tech', 'business', 'sport', 'sport', 'entertainment']\n",
            "\n",
            "\n",
            "MINIATURE DATASET:\n",
            "\n",
            "There are 5 sentences in the miniature dataset.\n",
            "\n",
            "First sentence has 436 words (after removing stopwords).\n",
            "\n",
            "There are 5 labels in the miniature dataset.\n",
            "\n",
            "The first 5 labels are ['tech', 'business', 'sport', 'sport', 'entertainment']\n"
          ]
        }
      ]
    },
    {
      "cell_type": "markdown",
      "source": [
        "## Using the Tokenizer\n",
        "\n",
        "`fit_tokenizer` function tokenizes the sentences of the dataset.  \n",
        "\n",
        "This function receives the list of sentences as input and return a [Tokenizer](https://www.tensorflow.org/api_docs/python/tf/keras/preprocessing/text/Tokenizer) that has been fitted to those sentences."
      ],
      "metadata": {
        "id": "E9STFnjHzMMB"
      }
    },
    {
      "cell_type": "code",
      "source": [
        "max_length = 120\n",
        "embedding_dim = 16\n",
        "trunc_type ='post'\n",
        "pad_type = 'post'\n",
        "oov_tok = \"<OOV>\"\n"
      ],
      "metadata": {
        "id": "jEVvxxvX2I0g"
      },
      "execution_count": 27,
      "outputs": []
    },
    {
      "cell_type": "code",
      "source": [
        "def fit_tokenizer(sentences):\n",
        "    \"\"\"\n",
        "    Instantiates the Tokenizer class\n",
        "\n",
        "    Args:\n",
        "        sentences (list): lower-cased sentences without stopwords\n",
        "\n",
        "    Returns:\n",
        "        tokenizer (object): an instance of the Tokenizer class containing the word-index dictionary\n",
        "    \"\"\"\n",
        "\n",
        "    # Instantiating the Tokenizer class by passing in the oov_token argument\n",
        "    tokenizer = Tokenizer(oov_token = oov_tok)\n",
        "\n",
        "    # Fitting on the sentences\n",
        "    tokenizer.fit_on_texts(sentences)\n",
        "\n",
        "    return tokenizer"
      ],
      "metadata": {
        "id": "dfouLVTT0GQx"
      },
      "execution_count": 19,
      "outputs": []
    },
    {
      "cell_type": "code",
      "source": [
        "tokenizer = fit_tokenizer(sentences)\n",
        "word_index = tokenizer.word_index\n",
        "\n",
        "print(f\"Vocabulary contains {len(word_index)} words\\n\")\n",
        "print(\"<OOV> token included in vocabulary\" if \"<OOV>\" in word_index else \"<OOV> token NOT included in vocabulary\")"
      ],
      "metadata": {
        "colab": {
          "base_uri": "https://localhost:8080/"
        },
        "id": "BMHxokiP0N5f",
        "outputId": "ef2c3157-2c88-498a-c65a-0e4fda15c969"
      },
      "execution_count": 18,
      "outputs": [
        {
          "output_type": "stream",
          "name": "stdout",
          "text": [
            "Vocabulary contains 29714 words\n",
            "\n",
            "<OOV> token included in vocabulary\n"
          ]
        }
      ]
    },
    {
      "cell_type": "code",
      "source": [
        "def get_padded_sequences(tokenizer, sentences):\n",
        "    \"\"\"\n",
        "    Generates an array of token sequences and pads them to the same length\n",
        "\n",
        "    Args:\n",
        "        tokenizer (object): Tokenizer instance containing the word-index dictionary\n",
        "        sentences (list of string): list of sentences to tokenize and pad\n",
        "\n",
        "    Returns:\n",
        "        padded_sequences (array of int): tokenized sentences padded to the same length\n",
        "    \"\"\"\n",
        "    # Converting sentences to sequences\n",
        "    sequences = tokenizer.texts_to_sequences(sentences)\n",
        "\n",
        "    # Padding the sequences using the post padding strategy\n",
        "    padded_sequences =  pad_sequences(sequences, maxlen=max_length, padding=pad_type, truncating=trunc_type)\n",
        "\n",
        "    return padded_sequences"
      ],
      "metadata": {
        "id": "dXPmF6gw18pm"
      },
      "execution_count": 25,
      "outputs": []
    },
    {
      "cell_type": "code",
      "source": [
        "padded_sequences = get_padded_sequences(tokenizer, sentences)\n",
        "print(f\"First padded sequence looks like this: \\n\\n{padded_sequences[0]}\\n\")\n",
        "print(f\"Numpy array of all sequences has shape: {padded_sequences.shape}\\n\")\n",
        "print(f\"This means there are {padded_sequences.shape[0]} sequences in total and each one has a size of {padded_sequences.shape[1]}\")"
      ],
      "metadata": {
        "colab": {
          "base_uri": "https://localhost:8080/"
        },
        "id": "LByS3mS12rAR",
        "outputId": "c401841d-d723-482d-afcb-34a690545836"
      },
      "execution_count": 28,
      "outputs": [
        {
          "output_type": "stream",
          "name": "stdout",
          "text": [
            "First padded sequence looks like this: \n",
            "\n",
            "[   96   176  1157  1220    54  1122   742  5211    85  1074  4267   147\n",
            "   184  4127  1344  1311  1595    47     9   949    96     4  6516   329\n",
            "    92    23    17   140  3128  1330  2519   576   419  1277    72  2963\n",
            "  3046  1755    10   894     4   755    12   954 19513    11   656  1578\n",
            "  1053   414     4  1999  1220   778    54   502  1497  2114  1652   135\n",
            "   333   123  2744   817  5212  1088   609    12  4413  4128   894  2580\n",
            "   147   351   184  4127  8812  5798    44    73  3218    31    11     2\n",
            "  5473    22     2  1397   145   454     9   138  1398    82  4598   488\n",
            "  5213    96  1053    87  6517    83  2115    63  8813    96     8  1123\n",
            "   634    85  1074    96  1970   148   159   420    11  2879    46    56]\n",
            "\n",
            "Numpy array of all sequences has shape: (2225, 120)\n",
            "\n",
            "This means there are 2225 sequences in total and each one has a size of 120\n"
          ]
        }
      ]
    },
    {
      "cell_type": "code",
      "source": [
        "def tokenize_labels(labels):\n",
        "    \"\"\"\n",
        "    Tokenizes the labels\n",
        "\n",
        "    Args:\n",
        "        labels (list of string): labels to tokenize\n",
        "\n",
        "    Returns:\n",
        "        label_sequences, label_word_index (list of string, dictionary): tokenized labels and the word-index\n",
        "    \"\"\"\n",
        "    # Instantiating the Tokenizer class\n",
        "    label_tokenizer = Tokenizer()\n",
        "\n",
        "    # Fitting the tokenizer to the labels\n",
        "    label_tokenizer.fit_on_texts(labels)\n",
        "\n",
        "    # Saving the word index\n",
        "    label_word_index = label_tokenizer.word_index\n",
        "\n",
        "    # Saving the sequences\n",
        "    label_sequences = label_tokenizer.texts_to_sequences(labels)\n",
        "\n",
        "    return label_sequences, label_word_index"
      ],
      "metadata": {
        "id": "FZU-l6aR1Ya5"
      },
      "execution_count": 21,
      "outputs": []
    },
    {
      "cell_type": "code",
      "source": [
        "label_sequences, label_word_index = tokenize_labels(labels)\n",
        "print(f\"Vocabulary of labels looks like this {label_word_index}\\n\")\n",
        "print(f\"First ten sequences {label_sequences[:10]}\\n\")"
      ],
      "metadata": {
        "colab": {
          "base_uri": "https://localhost:8080/"
        },
        "id": "Cs0Edmcz1t6o",
        "outputId": "c299eabe-7950-4374-cad1-90fce6d0661f"
      },
      "execution_count": 22,
      "outputs": [
        {
          "output_type": "stream",
          "name": "stdout",
          "text": [
            "Vocabulary of labels looks like this {'sport': 1, 'business': 2, 'politics': 3, 'tech': 4, 'entertainment': 5}\n",
            "\n",
            "First ten sequences [[4], [2], [1], [1], [5], [3], [3], [1], [1], [5]]\n",
            "\n"
          ]
        }
      ]
    }
  ]
}